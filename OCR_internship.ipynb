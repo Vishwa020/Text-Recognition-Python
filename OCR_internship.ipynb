{
 "cells": [
  {
   "cell_type": "markdown",
   "metadata": {},
   "source": [
    "# Text Recognition (Live Environment)"
   ]
  },
  {
   "cell_type": "markdown",
   "metadata": {},
   "source": [
    "<h3><b>What is Text Recognition?</b></h3>\n",
    "<b>Text Recognition/Optical Character Recognition</b> is the system that converts the text available in the image to a machine readable format. It is designed to read the all characters seen in the image to a machine interpretable text.\n",
    "<p>This algorithm allows computers to analyze <b>printed/handwritten documents</b> automatically and prepare text data into editable formats for computers to efficiently process them.</p>"
   ]
  },
  {
   "cell_type": "markdown",
   "metadata": {},
   "source": [
    "<h3>Importing the libraries</h3>"
   ]
  },
  {
   "cell_type": "markdown",
   "metadata": {},
   "source": [
    "Here for the OCR <b>py-tesseract</b> is used. It will recognize and \"read\" the text embedded in images. It can read text from any source whether it maybe images or license plates or handwritten documents. \n",
    "<p>The other main concerned library is <b>OpenCv</b>. This library is used to enable the real time accessibility of the sources to recognize characters from. The main functionality of this tool is to enable (create environment for) the real time computer vision based applications."
   ]
  },
  {
   "cell_type": "code",
   "execution_count": 1,
   "metadata": {},
   "outputs": [],
   "source": [
    "# Loading the necessary packages\n",
    "import pytesseract\n",
    "import cv2\n",
    "import matplotlib.pyplot as plt\n",
    "import numpy as np"
   ]
  },
  {
   "cell_type": "markdown",
   "metadata": {},
   "source": [
    "<p>           </p>"
   ]
  },
  {
   "cell_type": "markdown",
   "metadata": {},
   "source": [
    "Enabling the <b><i>tesseract</i></b> command by adding the PATH of its executable file."
   ]
  },
  {
   "cell_type": "code",
   "execution_count": 2,
   "metadata": {},
   "outputs": [],
   "source": [
    "pytesseract.pytesseract.tesseract_cmd = r\"C:\\Program Files\\Tesseract-OCR\\tesseract.exe\""
   ]
  },
  {
   "cell_type": "markdown",
   "metadata": {},
   "source": [
    "<h3>Testing on an image</h3>"
   ]
  },
  {
   "cell_type": "markdown",
   "metadata": {},
   "source": [
    "Now let's test an image. Here imread() method of cv2 accepts path of the file as an input and reads the specified file. If complications are seen with the file such as missing file, improper permissions, unsupported or invalid format then it returns an empty matrix."
   ]
  },
  {
   "cell_type": "code",
   "execution_count": 3,
   "metadata": {},
   "outputs": [
    {
     "name": "stdout",
     "output_type": "stream",
     "text": [
      "[[255 255 255]\n",
      " [255 255 255]\n",
      " [255 255 255]\n",
      " ...\n",
      " [255 255 255]\n",
      " [255 255 255]\n",
      " [255 255 255]]\n"
     ]
    }
   ],
   "source": [
    "# Loading the image file\n",
    "img = cv2.imread(r\"C:\\Users\\Asus\\Desktop\\img_file.png\")\n",
    "\n",
    "# The result shows the numpy matrix of the image pixels\n",
    "print(img[10])"
   ]
  },
  {
   "cell_type": "code",
   "execution_count": 4,
   "metadata": {},
   "outputs": [
    {
     "data": {
      "text/plain": [
       "<matplotlib.image.AxesImage at 0x1edb4420d88>"
      ]
     },
     "execution_count": 4,
     "metadata": {},
     "output_type": "execute_result"
    },
    {
     "data": {
      "image/png": "[encoded data removed]",
      "text/plain": [
       "<Figure size 432x288 with 1 Axes>"
      ]
     },
     "metadata": {
      "needs_background": "light"
     },
     "output_type": "display_data"
    }
   ],
   "source": [
    "# Visualizing the image\n",
    "plt.imshow(img)"
   ]
  },
  {
   "cell_type": "markdown",
   "metadata": {},
   "source": [
    "<h3>Converting Text (Image) -> String</h3>\n",
    "<p>Using the <b>image_to_string()</b> method to convert the text seen in the image file to a string type.</p>\n",
    "<p>The numpy matrix of image is passed as the parameter."
   ]
  },
  {
   "cell_type": "code",
   "execution_count": 5,
   "metadata": {},
   "outputs": [
    {
     "data": {
      "text/plain": [
       "str"
      ]
     },
     "execution_count": 5,
     "metadata": {},
     "output_type": "execute_result"
    }
   ],
   "source": [
    "# Transforming the characters seen in the image to string type.\n",
    "img2char = pytesseract.image_to_string(img)\n",
    "\n",
    "# The type(img2char) shows the type of the variable img2char which is \"string type\" as required.\n",
    "type(img2char)"
   ]
  },
  {
   "cell_type": "code",
   "execution_count": 6,
   "metadata": {},
   "outputs": [
    {
     "name": "stdout",
     "output_type": "stream",
     "text": [
      "Reading the line from\n",
      "image using Python... !\n",
      "\f",
      "\n"
     ]
    }
   ],
   "source": [
    "# The result here reads the characters (text as a whole) present in the image in string format. \n",
    "print(img2char)"
   ]
  },
  {
   "cell_type": "markdown",
   "metadata": {},
   "source": [
    "<h3>Creating bounding boxes</h3>\n",
    "<p>Now let's draw bounding boxes around each character seen in the image.</p>\n",
    "<p>For this pytesseract's method named <b>image_to_boxes()</b> is used. This method encloses each and every seen character by a bounding box. So the bounding boxes seperate the characters from one another. And this method can further be used to seperate lines, paragraphs and segments in the text document/image.</p>"
   ]
  },
  {
   "cell_type": "code",
   "execution_count": 7,
   "metadata": {},
   "outputs": [],
   "source": [
    "# Creating bounding boxes.\n",
    "imgbox = pytesseract.image_to_boxes(img)"
   ]
  },
  {
   "cell_type": "code",
   "execution_count": 8,
   "metadata": {},
   "outputs": [
    {
     "data": {
      "text/plain": [
       "str"
      ]
     },
     "execution_count": 8,
     "metadata": {},
     "output_type": "execute_result"
    }
   ],
   "source": [
    "type(imgbox)"
   ]
  },
  {
   "cell_type": "code",
   "execution_count": 9,
   "metadata": {},
   "outputs": [
    {
     "name": "stdout",
     "output_type": "stream",
     "text": [
      "R 56 365 98 408 0\n",
      "e 100 364 124 395 0\n",
      "a 113 351 142 410 0\n",
      "d 128 364 155 395 0\n",
      "i 156 364 202 410 0\n",
      "n 205 365 236 395 0\n",
      "g 238 351 267 395 0\n",
      "t 284 364 302 404 0\n",
      "h 303 365 334 410 0\n",
      "e 336 364 360 395 0\n",
      "l 381 365 394 410 0\n",
      "i 399 365 412 410 0\n",
      "n 415 365 446 395 0\n",
      "e 448 364 472 395 0\n",
      "f 493 365 533 410 0\n",
      "r 535 364 563 395 0\n",
      "o 554 364 583 410 0\n",
      "m 566 365 613 395 0\n",
      "i 58 280 71 325 0\n",
      "m 74 280 121 310 0\n",
      "a 124 279 151 310 0\n",
      "g 152 266 181 310 0\n",
      "e 184 279 208 310 0\n",
      "u 228 279 257 309 0\n",
      "s 262 279 282 310 0\n",
      "i 287 280 300 325 0\n",
      "n 303 280 334 310 0\n",
      "g 336 266 365 310 0\n",
      "P 383 280 416 323 0\n",
      "y 411 266 434 325 0\n",
      "t 418 266 466 319 0\n",
      "h 467 280 498 325 0\n",
      "o 483 266 512 325 0\n",
      "n 500 279 528 310 0\n",
      ". 531 280 562 310 0\n",
      ". 569 279 574 284 0\n",
      ". 588 279 612 284 0\n",
      "! 633 279 638 324 0\n",
      "\n"
     ]
    }
   ],
   "source": [
    "# Here the result shows the coordinating points of the bounding rectangles around every visible character.\n",
    "\n",
    "print(imgbox)"
   ]
  },
  {
   "cell_type": "code",
   "execution_count": 10,
   "metadata": {},
   "outputs": [
    {
     "data": {
      "text/plain": [
       "(492, 711, 3)"
      ]
     },
     "execution_count": 10,
     "metadata": {},
     "output_type": "execute_result"
    }
   ],
   "source": [
    "# The shape() methond shows the height, width and the depth of the image loaded.\n",
    "# The depth value here represents the color depthness of the image file.\n",
    "\n",
    "imgH, imgW, _ = img.shape\n",
    "img.shape"
   ]
  },
  {
   "cell_type": "code",
   "execution_count": 11,
   "metadata": {},
   "outputs": [],
   "source": [
    "# The following code works to get the bounding boxes around the recognized charachters.\n",
    "\n",
    "for boxes in imgbox.splitlines():\n",
    "    boxes = boxes.split(\" \")\n",
    "    x,y,w,h = int(boxes[1]), int(boxes[2]), int(boxes[3]), int(boxes[4])\n",
    "    cv2.rectangle(img, (x, imgH-y), (w, imgH-h), (0,0,255),1)"
   ]
  },
  {
   "cell_type": "code",
   "execution_count": 12,
   "metadata": {},
   "outputs": [
    {
     "data": {
      "text/plain": [
       "<matplotlib.image.AxesImage at 0x1edb4d78fc8>"
      ]
     },
     "execution_count": 12,
     "metadata": {},
     "output_type": "execute_result"
    },
    {
     "data": {
      "image/png": "[encoded data removed]",
      "text/plain": [
       "<Figure size 432x288 with 1 Axes>"
      ]
     },
     "metadata": {
      "needs_background": "light"
     },
     "output_type": "display_data"
    }
   ],
   "source": [
    "# Shows bounding boxes around every character.\n",
    "\n",
    "plt.imshow(img)"
   ]
  },
  {
   "cell_type": "code",
   "execution_count": 13,
   "metadata": {},
   "outputs": [
    {
     "data": {
      "text/plain": [
       "<matplotlib.image.AxesImage at 0x1edb4f8fb08>"
      ]
     },
     "execution_count": 13,
     "metadata": {},
     "output_type": "execute_result"
    },
    {
     "data": {
      "image/png": "[encoded data removed]",
      "text/plain": [
       "<Figure size 432x288 with 1 Axes>"
      ]
     },
     "metadata": {
      "needs_background": "light"
     },
     "output_type": "display_data"
    }
   ],
   "source": [
    "# Changing the color format from BGR to RGB.\n",
    "# So the resulting image shows the bounding boxes of Red color.\n",
    "\n",
    "plt.imshow(cv2.cvtColor(img, cv2.COLOR_BGR2RGB))"
   ]
  },
  {
   "cell_type": "markdown",
   "metadata": {},
   "source": [
    "<h3>Executing in real environment</h3>\n",
    "<p>Now let's test this on a video file. Firstly a method of OpenCv named <b>VideoCapture()</b> is used to load the video file. This same method can also be used to load the image directly from the Webcam and run Text recognition over it. Here the path of the video file is passed as a parameter to the method.</p>\n",
    "\n",
    "<p>Then an infinite <b>while loop</b> is initiated which continuously takes the input from the Webcam/video file unless the <b>break condition</b> is encountered.</p>\n",
    "\n",
    "<p>At the end all the windows captured by the webcam or the image frames of the video file is removed.</p>"
   ]
  },
  {
   "cell_type": "code",
   "execution_count": 14,
   "metadata": {},
   "outputs": [
    {
     "ename": "AttributeError",
     "evalue": "'NoneType' object has no attribute 'shape'",
     "output_type": "error",
     "traceback": [
      "\u001b[1;31m---------------------------------------------------------------------------\u001b[0m",
      "\u001b[1;31mAttributeError\u001b[0m                            Traceback (most recent call last)",
      "\u001b[1;32m<ipython-input-14-a82f8d92db31>\u001b[0m in \u001b[0;36m<module>\u001b[1;34m\u001b[0m\n\u001b[0;32m     16\u001b[0m \u001b[1;33m\u001b[0m\u001b[0m\n\u001b[0;32m     17\u001b[0m     \u001b[1;32mif\u001b[0m \u001b[1;33m(\u001b[0m\u001b[1;33m(\u001b[0m\u001b[0mcntr\u001b[0m\u001b[1;33m%\u001b[0m\u001b[1;36m20\u001b[0m\u001b[1;33m)\u001b[0m \u001b[1;33m==\u001b[0m \u001b[1;36m0\u001b[0m\u001b[1;33m)\u001b[0m\u001b[1;33m:\u001b[0m\u001b[1;33m\u001b[0m\u001b[1;33m\u001b[0m\u001b[0m\n\u001b[1;32m---> 18\u001b[1;33m         \u001b[0mimgH\u001b[0m\u001b[1;33m,\u001b[0m \u001b[0mimgW\u001b[0m\u001b[1;33m,\u001b[0m \u001b[0m_\u001b[0m \u001b[1;33m=\u001b[0m \u001b[0mframe\u001b[0m\u001b[1;33m.\u001b[0m\u001b[0mshape\u001b[0m\u001b[1;33m\u001b[0m\u001b[1;33m\u001b[0m\u001b[0m\n\u001b[0m\u001b[0;32m     19\u001b[0m         \u001b[0mx1\u001b[0m\u001b[1;33m,\u001b[0m \u001b[0my1\u001b[0m\u001b[1;33m,\u001b[0m \u001b[0mw1\u001b[0m\u001b[1;33m,\u001b[0m \u001b[0mh1\u001b[0m \u001b[1;33m=\u001b[0m \u001b[1;36m0\u001b[0m\u001b[1;33m,\u001b[0m\u001b[1;36m0\u001b[0m\u001b[1;33m,\u001b[0m\u001b[0mimgH\u001b[0m\u001b[1;33m,\u001b[0m\u001b[0mimgW\u001b[0m\u001b[1;33m\u001b[0m\u001b[1;33m\u001b[0m\u001b[0m\n\u001b[0;32m     20\u001b[0m         \u001b[0mimgchar\u001b[0m \u001b[1;33m=\u001b[0m \u001b[0mpytesseract\u001b[0m\u001b[1;33m.\u001b[0m\u001b[0mimage_to_string\u001b[0m\u001b[1;33m(\u001b[0m\u001b[0mframe\u001b[0m\u001b[1;33m)\u001b[0m\u001b[1;33m\u001b[0m\u001b[1;33m\u001b[0m\u001b[0m\n",
      "\u001b[1;31mAttributeError\u001b[0m: 'NoneType' object has no attribute 'shape'"
     ]
    }
   ],
   "source": [
    "font_scale = 1.5\n",
    "font = cv2.FONT_HERSHEY_PLAIN\n",
    "\n",
    "cap = cv2.VideoCapture(r\"C:\\Users\\Asus\\Desktop\\text-input.mp4\")\n",
    "\n",
    "if not cap.isOpened():\n",
    "    cap = cv2.VideoCapture(0)\n",
    "if not cap.isOpened():\n",
    "    raise IOError(\"Cannot open webcam\")\n",
    "\n",
    "cntr = 0;\n",
    "while True:\n",
    "    ret, frame = cap.read()\n",
    "    #print(ret)\n",
    "    cntr = cntr + 1;\n",
    "    \n",
    "    if ((cntr%20) == 0):\n",
    "        imgH, imgW, _ = frame.shape\n",
    "        x1, y1, w1, h1 = 0,0,imgH,imgW\n",
    "        imgchar = pytesseract.image_to_string(frame)\n",
    "        imgboxes = pytesseract.image_to_boxes(frame)\n",
    "        \n",
    "        for boxes in imgboxes.splitlines():\n",
    "            boxes = boxes.split(\" \")\n",
    "            x,y,w,h = int(boxes[1]), int(boxes[2]), int(boxes[3]), int(boxes[4])\n",
    "            cv2.rectangle(frame, (x, imgH-y), (w, imgH-h), (0,0,255),1)\n",
    "            \n",
    "        cv2.putText(frame, imgchar, (x1 + int(w1/50),y1 + int(h1/50)), cv2.FONT_HERSHEY_SIMPLEX, 0.7, (0,0,255), 2)\n",
    "        font = cv2.FONT_HERSHEY_SIMPLEX\n",
    "        \n",
    "        cv2.imshow(\"Text recognition\", frame)\n",
    "        if cv2.waitKey(2) & 0xFF == ord(\"q\"):\n",
    "            break\n",
    "\n",
    "cap.release()\n",
    "cv2.destroyAllWindows()\n",
    "        "
   ]
  },
  {
   "cell_type": "markdown",
   "metadata": {},
   "source": [
    "<h2>Conclusion:</h2>\n",
    "<p>This text recognition technique from the video or any document can be used for many other applications.</p>\n",
    "<p>Such as:\n",
    "<p>1. To read data from big files and make a summary out of it.\n",
    "<p>2. To convert the pdfs into audio files which helps us to read the research papers easily in no time.\n",
    "<p>3. To read the number plates on the vehicles and utilize it further as per the need.\n",
    "<p>4. To convert the handwritten documents into soft copies.\n",
    "<p>And many other..."
   ]
  }
 ],
 "metadata": {
  "kernelspec": {
   "display_name": "Python 3",
   "language": "python",
   "name": "python3"
  },
  "language_info": {
   "codemirror_mode": {
    "name": "ipython",
    "version": 3
   },
   "file_extension": ".py",
   "mimetype": "text/x-python",
   "name": "python",
   "nbconvert_exporter": "python",
   "pygments_lexer": "ipython3",
   "version": "3.7.6"
  }
 },
 "nbformat": 4,
 "nbformat_minor": 4
}
